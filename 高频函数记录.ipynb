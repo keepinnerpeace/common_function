{
 "cells": [
  {
   "cell_type": "markdown",
   "metadata": {},
   "source": [
    "# 统计日最大负荷最高的10天数据所属的季节"
   ]
  },
  {
   "cell_type": "code",
   "execution_count": null,
   "metadata": {},
   "outputs": [],
   "source": [
    "import pandas as pd\n",
    "\n",
    "# data有下面几列数据：地域、季节、日最大负荷\n",
    "# 想统计日最大负荷最高的10天/20属于各个季节的个数\n",
    "def count_seasons(df):\n",
    "    # 找到日最大负荷最大的10个数据所在的日期\n",
    "    top_dates = df.nlargest(10, \"日最大负荷\")[\"季节\"]\n",
    "    # 计算这些日期属于春季、夏季、秋季和冬季的个数\n",
    "    spring_count = sum(top_dates.str.endswith(\"春季\"))\n",
    "    summer_count = sum(top_dates.str.endswith(\"夏季\"))\n",
    "    autumn_count = sum(top_dates.str.endswith(\"秋季\"))\n",
    "    winter_count = sum(top_dates.str.endswith(\"冬季\"))\n",
    "    # 返回结果\n",
    "    return [spring_count, summer_count, autumn_count, winter_count]\n",
    "\n",
    "# 按城市分组，并应用函数\n",
    "result = data.groupby(\"地域\").apply(count_seasons)\n",
    "# 将结果转换为数据框，并添加列名\n",
    "result = pd.DataFrame(result.tolist(), index=result.index, columns=[\"春季个数\", \"夏季个数\", \"秋季个数\", \"冬季个数\"])"
   ]
  },
  {
   "cell_type": "markdown",
   "metadata": {},
   "source": [
    "# 找气象负荷占比差值最大的温度区间"
   ]
  },
  {
   "cell_type": "code",
   "execution_count": null,
   "metadata": {},
   "outputs": [],
   "source": [
    "# filtered_data有下面几列数据：地域、温度区间、该温度区间气象负荷占比均值、上一个温度区间气象负荷占比、温度区间气象负荷占比差值\n",
    "# 找到温度区间气象负荷占比差值最大的温度区间\n",
    "\n",
    "def find_max_temp_range(group):\n",
    "    # 找到温度区间气象负荷占比差值最大的那个温度区间\n",
    "    max_temp_range = group.loc[group['温度区间气象负荷占比差值'].idxmax(), '温度区间']\n",
    "    # 将这个温度区间添加到数据框中作为新的一列\n",
    "    group['最大温度区间'] = max_temp_range\n",
    "    return group\n",
    "\n",
    "data_temp = filtered_data.groupby('地域').apply(find_max_temp_range)"
   ]
  },
  {
   "cell_type": "markdown",
   "metadata": {},
   "source": [
    "# 积温累积效应的计算"
   ]
  },
  {
   "cell_type": "code",
   "execution_count": null,
   "metadata": {},
   "outputs": [],
   "source": [
    "# data_jw有下面几列数据：\"地域\",\"日期\",'日最高气温',\"临界温度\",\"温度是否超过临界值\"\n",
    "# 想要实现积温累积效应的计算：（日最高气温-临界温度）*连续超过临界温度的天数\n",
    "# 计算积温累积效应\n",
    "def accum_temperature(df):\n",
    "    # 按照地域进行分组\n",
    "    grouped = df.groupby('地域')\n",
    "    # 对于每个地域，计算温度连续超过气温临界值的天数，并计算积温累积效应\n",
    "    for name, group in grouped:\n",
    "        # 初始化连续超过天数为0\n",
    "        group['连续超过天数'] = 0\n",
    "        # 计算积温累积效应\n",
    "        group['积温累积效应'] = (group['日最高气温'] - group['临界温度']) * group['连续超过天数']\n",
    "        # 对于每个日期，判断温度是否超过气温临界值\n",
    "        for i in range(0, len(group)-1):\n",
    "            if i==0:\n",
    "                if group.loc[group.index[i], '温度是否超过临界值'] == 1:\n",
    "                    # 如果温度超过气温临界值，则将连续超过天数加1\n",
    "                    group.loc[group.index[i], '连续超过天数'] = 1\n",
    "                else:\n",
    "                    # 如果温度低于气温临界值，则将连续超过天数重置为0\n",
    "                    group.loc[group.index[i], '连续超过天数'] = 0\n",
    "            else: \n",
    "                if group.loc[group.index[i], '温度是否超过临界值'] == 1:\n",
    "                    # 如果温度超过气温临界值，则将连续超过天数加1\n",
    "                    group.loc[group.index[i], '连续超过天数'] = group.loc[group.index[i-1], '连续超过天数'] + 1\n",
    "                else:\n",
    "                    # 如果温度低于气温临界值，则将连续超过天数重置为0\n",
    "                    group.loc[group.index[i], '连续超过天数'] = 0\n",
    "            # 计算积温累积效应\n",
    "            group.loc[group.index[i], '积温累积效应'] = (group.loc[group.index[i], '日最高气温'] - group.loc[group.index[i], '临界温度']) * group.loc[group.index[i], '连续超过天数']\n",
    "        # 将计算结果保存到原数据框中\n",
    "        df.loc[group.index, '积温累积效应'] = group['积温累积效应']\n",
    "        df.loc[group.index, '连续超过天数'] = group['连续超过天数']\n",
    "    df[\"积温累积效应\"]=df[\"积温累积效应\"].apply(lambda x:round(x,2))\n",
    "    return df\n",
    "\n",
    "data_jw=data[[\"地域\",\"日期\",'日最高气温',\"临界温度\",\"温度是否超过临界值\"]]\n",
    "data_jw=accum_temperature(data_jw)"
   ]
  },
  {
   "cell_type": "markdown",
   "metadata": {},
   "source": [
    "# 找到气象负荷高于2.5倍均值的异常高值，并使用均值填充 "
   ]
  },
  {
   "cell_type": "code",
   "execution_count": null,
   "metadata": {},
   "outputs": [],
   "source": [
    "# data有地域、气象负荷两列数据\n",
    "# 处理城市整体气象负荷的异常高值\n",
    "def abnormal_handling(df):\n",
    "    # 计算每个城市的均值和标准差\n",
    "    grouped = df.groupby(\"地域\")\n",
    "#     for elec in [\"气象负荷\",'城镇居民生活负荷-气象负荷','乡村居民生活负荷-气象负荷','一般工商业负荷-气象负荷']:\n",
    "    for elec in [\"气象负荷\"]:\n",
    "        means = grouped.mean()[f\"{elec}\"]\n",
    "        stds = grouped.std()[f\"{elec}\"]\n",
    "        # 处理每个城市的异常高值数据\n",
    "        for city in means.index:\n",
    "            # 找到该城市的异常高值数据\n",
    "            high_values = df.loc[(df[\"地域\"] == city) & (df[f\"{elec}\"] > means[city] + 2.5 * stds[city]), f\"{elec}\"]\n",
    "            while not high_values.empty:\n",
    "                # 用其余数据的均值来填充异常高值数据\n",
    "                data.loc[(df[\"地域\"] == city) & (df[f\"{elec}\"] > means[city] + 2.5 * stds[city]), f\"{elec}\"] = means[city]\n",
    "                # 重新计算该城市的均值和标准差\n",
    "                means[city] = df.loc[df[\"地域\"] == city, f\"{elec}\"].mean()\n",
    "                stds[city] = df.loc[df[\"地域\"] == city, f\"{elec}\"].std()\n",
    "                # 找到该城市的新的异常高值数据\n",
    "                high_values = df.loc[(df[\"地域\"] == city) & (df[f\"{elec}\"] > means[city] + 2.5 * stds[city]), f\"{elec}\"]\n",
    "    return df\n",
    "\n",
    "\n",
    "data=abnormal_handling(data)"
   ]
  },
  {
   "cell_type": "markdown",
   "metadata": {},
   "source": [
    "# 不连续日期的数据展示"
   ]
  },
  {
   "cell_type": "code",
   "execution_count": null,
   "metadata": {},
   "outputs": [],
   "source": [
    "# 数据data有三列数据：城市、日期、日最大负荷，日期是分为两段，\n",
    "# 想要在图上不间断日期的展示日最大负荷的数据情况\n",
    "# 假设数据框名为results\n",
    "grouped_results = data.groupby('城市')\n",
    "\n",
    "# 遍历每个城市的数据子集\n",
    "for city, data_ in grouped_results:\n",
    "    # 创建一个新的图表\n",
    "    plt.figure(dpi=120)\n",
    "    data_.drop_duplicates(subset=[\"日期\"],keep=\"last\",inplace=True)\n",
    "    \n",
    "    \n",
    "    data_2022 = data_[data_['日期'] <= '2022-08-31']\n",
    "    data_2023 = data_[data_['日期'] >= '2023-05-27']\n",
    "    data_2022[\"日期\"]=data_2022[\"日期\"].apply(lambda x:str(x)[:10])\n",
    "    data_2023[\"日期\"]=data_2023[\"日期\"].apply(lambda x:str(x)[:10])\n",
    "    \n",
    "    data_[\"日期\"]=data_[\"日期\"].apply(lambda x:str(x)[:10])\n",
    "    \n",
    "    \n",
    "    # 绘制折线图\n",
    "    plt.plot(data_2022['日期'], data_2022['日最大负荷'], 'g-', data_2023['日期'], data_2023['日最大负荷'],'r--')\n",
    "    \n",
    "    la= data_['日期'].iloc[::20]\n",
    "    plt.xticks(ticks=list(range(0,len(data_['日期']),20)),        #设置要显示的x轴刻度，若指定空列表则去掉x轴刻度, \n",
    "    labels=la,    #设置x轴刻度显示的文字，要与ticks对应   \n",
    "    fontsize=9,        #设置刻度字体大小\n",
    "    rotation=0,        #设置刻度文字旋转角度\n",
    "    ha='center', va='center')        #刻度文字对齐方式，当rotation_mode为’anchor'时，对齐方式决定了文字旋转的中心。ha也可以写成horizontalalignment，va也可以写成verticalalignment。)\n",
    "\n",
    "    # 设置图表标题和轴标签\n",
    "    plt.title(city + \"预测的最大负荷变动情况\")\n",
    "    plt.xlabel(\"时间\")\n",
    "    plt.ylabel(\"最大负荷\")\n",
    "    # 显示图表\n",
    "    #test111\n",
    "    plt.show()"
   ]
  }
 ],
 "metadata": {
  "kernelspec": {
   "display_name": "Python 3 (ipykernel)",
   "language": "python",
   "name": "python3"
  },
  "language_info": {
   "codemirror_mode": {
    "name": "ipython",
    "version": 3
   },
   "file_extension": ".py",
   "mimetype": "text/x-python",
   "name": "python",
   "nbconvert_exporter": "python",
   "pygments_lexer": "ipython3",
   "version": "3.9.7"
  },
  "toc": {
   "base_numbering": 1.0,
   "nav_menu": {
    "height": "278.991px",
    "width": "427.699px"
   },
   "number_sections": true,
   "sideBar": true,
   "skip_h1_title": false,
   "title_cell": "Table of Contents",
   "title_sidebar": "Contents",
   "toc_cell": false,
   "toc_position": {
    "height": "calc(100% - 180px)",
    "left": "10px",
    "top": "150px",
    "width": "165px"
   },
   "toc_section_display": true,
   "toc_window_display": false
  }
 },
 "nbformat": 4,
 "nbformat_minor": 5
}
